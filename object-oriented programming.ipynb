{
 "cells": [
  {
   "cell_type": "markdown",
   "id": "4a60e064",
   "metadata": {},
   "source": [
    "### Rectangle Class"
   ]
  },
  {
   "cell_type": "code",
   "execution_count": 1,
   "id": "71d6a900",
   "metadata": {
    "scrolled": true
   },
   "outputs": [],
   "source": [
    "class Rectangle:\n",
    "    width = 0\n",
    "    height = 0\n",
    "    def __init__(self,w,h):\n",
    "        self.width = w\n",
    "        self.height = h\n",
    "    \n",
    "    def getArea(self):\n",
    "        return self.width * self.height\n",
    "    \n",
    "    def __str__(self):\n",
    "        return \"Rectangle with \"+ str(self.width) + \" wdith \" +\\\n",
    "                    str(self.height) + \" height.\""
   ]
  },
  {
   "cell_type": "code",
   "execution_count": 2,
   "id": "1d0b633d",
   "metadata": {},
   "outputs": [],
   "source": [
    "r1 =  Rectangle(10,20)"
   ]
  },
  {
   "cell_type": "code",
   "execution_count": 3,
   "id": "fcbd9021",
   "metadata": {
    "scrolled": false
   },
   "outputs": [
    {
     "name": "stdout",
     "output_type": "stream",
     "text": [
      "Rectangle with 10 wdith 20 height.\n"
     ]
    }
   ],
   "source": [
    "print(r1)"
   ]
  },
  {
   "cell_type": "markdown",
   "id": "b7fe4890",
   "metadata": {},
   "source": [
    "### Example"
   ]
  },
  {
   "cell_type": "code",
   "execution_count": 4,
   "id": "45f4c236",
   "metadata": {},
   "outputs": [],
   "source": [
    "class Point:\n",
    "    def __init__(self, x, y):\n",
    "        self.x = x\n",
    "        self.y = y\n",
    "    \n",
    "    def __str__(self):\n",
    "        return f\"({self.x},{self.y})\""
   ]
  },
  {
   "cell_type": "code",
   "execution_count": 5,
   "id": "9270c918",
   "metadata": {},
   "outputs": [],
   "source": [
    "p1 = Point(6,8)"
   ]
  },
  {
   "cell_type": "code",
   "execution_count": 6,
   "id": "e51214ca",
   "metadata": {},
   "outputs": [
    {
     "name": "stdout",
     "output_type": "stream",
     "text": [
      "(6,8)\n"
     ]
    }
   ],
   "source": [
    "print(p1)"
   ]
  },
  {
   "cell_type": "code",
   "execution_count": 7,
   "id": "692a0349",
   "metadata": {},
   "outputs": [
    {
     "data": {
      "text/plain": [
       "6"
      ]
     },
     "execution_count": 7,
     "metadata": {},
     "output_type": "execute_result"
    }
   ],
   "source": [
    "p1.x"
   ]
  },
  {
   "cell_type": "code",
   "execution_count": 8,
   "id": "047786ff",
   "metadata": {},
   "outputs": [
    {
     "data": {
      "text/plain": [
       "8"
      ]
     },
     "execution_count": 8,
     "metadata": {},
     "output_type": "execute_result"
    }
   ],
   "source": [
    "p1.y"
   ]
  },
  {
   "cell_type": "code",
   "execution_count": 10,
   "id": "4b21ba90",
   "metadata": {},
   "outputs": [],
   "source": [
    "p1.x,p1.y=3,5"
   ]
  },
  {
   "cell_type": "code",
   "execution_count": 11,
   "id": "f026a353",
   "metadata": {},
   "outputs": [
    {
     "name": "stdout",
     "output_type": "stream",
     "text": [
      "(3,5)\n"
     ]
    }
   ],
   "source": [
    "print(p1)"
   ]
  },
  {
   "cell_type": "code",
   "execution_count": 12,
   "id": "fa273301",
   "metadata": {},
   "outputs": [
    {
     "name": "stdout",
     "output_type": "stream",
     "text": [
      "(5,7)\n"
     ]
    }
   ],
   "source": [
    "p2 = Point(5,7)\n",
    "print(p2)"
   ]
  },
  {
   "cell_type": "code",
   "execution_count": 13,
   "id": "099e023d",
   "metadata": {},
   "outputs": [
    {
     "ename": "TypeError",
     "evalue": "unsupported operand type(s) for +: 'Point' and 'Point'",
     "output_type": "error",
     "traceback": [
      "\u001b[1;31m---------------------------------------------------------------------------\u001b[0m",
      "\u001b[1;31mTypeError\u001b[0m                                 Traceback (most recent call last)",
      "Input \u001b[1;32mIn [13]\u001b[0m, in \u001b[0;36m<cell line: 1>\u001b[1;34m()\u001b[0m\n\u001b[1;32m----> 1\u001b[0m \u001b[43mp1\u001b[49m\u001b[43m \u001b[49m\u001b[38;5;241;43m+\u001b[39;49m\u001b[43m \u001b[49m\u001b[43mp2\u001b[49m\n",
      "\u001b[1;31mTypeError\u001b[0m: unsupported operand type(s) for +: 'Point' and 'Point'"
     ]
    }
   ],
   "source": [
    "p1 + p2"
   ]
  },
  {
   "cell_type": "markdown",
   "id": "bf28f7ed",
   "metadata": {},
   "source": [
    "### operator overload"
   ]
  },
  {
   "cell_type": "code",
   "execution_count": 27,
   "id": "d4bf8197",
   "metadata": {},
   "outputs": [],
   "source": [
    "class Point:\n",
    "    def __init__(self, x, y):\n",
    "        self.x = x\n",
    "        self.y = y\n",
    "    \n",
    "    def __str__(self):\n",
    "        return f\"({self.x},{self.y})\"\n",
    "    \n",
    "    def __add__(self,other):\n",
    "        return Point(self.x + other.x, self.y + other.y)\n",
    "    \n",
    "    def __eq__(self1, other):\n",
    "        return self1.x == other.x and self1.y == other.y\n",
    "    \n",
    "    def distance(self):\n",
    "        return (self.x**2 + self.y**2)**0.5"
   ]
  },
  {
   "cell_type": "code",
   "execution_count": 28,
   "id": "8c9b2270",
   "metadata": {},
   "outputs": [],
   "source": [
    "p1 = Point(3,5)\n",
    "p2 = Point(5,7)"
   ]
  },
  {
   "cell_type": "code",
   "execution_count": 29,
   "id": "3dcbef67",
   "metadata": {},
   "outputs": [
    {
     "name": "stdout",
     "output_type": "stream",
     "text": [
      "(8,12)\n"
     ]
    }
   ],
   "source": [
    "p3 = p1 + p2\n",
    "print(p3)"
   ]
  },
  {
   "cell_type": "code",
   "execution_count": 25,
   "id": "dbb1b837",
   "metadata": {},
   "outputs": [
    {
     "data": {
      "text/plain": [
       "False"
      ]
     },
     "execution_count": 25,
     "metadata": {},
     "output_type": "execute_result"
    }
   ],
   "source": [
    "p1 == p2"
   ]
  },
  {
   "cell_type": "code",
   "execution_count": 30,
   "id": "906cc763",
   "metadata": {},
   "outputs": [
    {
     "data": {
      "text/plain": [
       "True"
      ]
     },
     "execution_count": 30,
     "metadata": {},
     "output_type": "execute_result"
    }
   ],
   "source": [
    "p1 + p2 == p2 + p1"
   ]
  },
  {
   "cell_type": "code",
   "execution_count": 31,
   "id": "7953bdaa",
   "metadata": {},
   "outputs": [
    {
     "data": {
      "text/plain": [
       "5.830951894845301"
      ]
     },
     "execution_count": 31,
     "metadata": {},
     "output_type": "execute_result"
    }
   ],
   "source": [
    "p1.distance()"
   ]
  },
  {
   "cell_type": "code",
   "execution_count": 32,
   "id": "2f6ef4a8",
   "metadata": {},
   "outputs": [
    {
     "data": {
      "text/plain": [
       "8.602325267042627"
      ]
     },
     "execution_count": 32,
     "metadata": {},
     "output_type": "execute_result"
    }
   ],
   "source": [
    "p2.distance()"
   ]
  },
  {
   "cell_type": "markdown",
   "id": "09df8980",
   "metadata": {},
   "source": [
    "### مثال\n",
    "کلاسی بنویسید که بتواند اشیایی از جنس تابع تولید نماید . متد انتگرالگیر را برای آن بنویسید"
   ]
  },
  {
   "cell_type": "code",
   "execution_count": 37,
   "id": "1962a098",
   "metadata": {},
   "outputs": [],
   "source": [
    "class Function:\n",
    "    def __init__(self, func):\n",
    "        self.f = func\n",
    "    \n",
    "    def getValue(self,x):\n",
    "        return self.f(x)\n",
    "    \n",
    "    def integrate(self, a, b, n=10):\n",
    "        delta = (b-a)/n\n",
    "        x = a\n",
    "        sum = 0\n",
    "        for i in range(n-1):\n",
    "            x += delta\n",
    "            sum += self.f(x)\n",
    "        sum = delta * ((self.f(a)+self.f(b))/2+sum)\n",
    "        \n",
    "        return sum"
   ]
  },
  {
   "cell_type": "markdown",
   "id": "1b9ecaa2",
   "metadata": {},
   "source": [
    "$I = \\int_1^2 e^{x^2} dx$"
   ]
  },
  {
   "cell_type": "code",
   "execution_count": 38,
   "id": "1709b634",
   "metadata": {},
   "outputs": [],
   "source": [
    "from math import exp\n",
    "def g(x):\n",
    "    return exp(x**2)"
   ]
  },
  {
   "cell_type": "code",
   "execution_count": 39,
   "id": "6fe863ae",
   "metadata": {},
   "outputs": [],
   "source": [
    "f = Function(g)"
   ]
  },
  {
   "cell_type": "code",
   "execution_count": 40,
   "id": "6fc5cd65",
   "metadata": {},
   "outputs": [
    {
     "data": {
      "text/plain": [
       "2.718281828459045"
      ]
     },
     "execution_count": 40,
     "metadata": {},
     "output_type": "execute_result"
    }
   ],
   "source": [
    "f.getValue(1)"
   ]
  },
  {
   "cell_type": "code",
   "execution_count": 41,
   "id": "07c5bf23",
   "metadata": {},
   "outputs": [
    {
     "data": {
      "text/plain": [
       "15.166784148626125"
      ]
     },
     "execution_count": 41,
     "metadata": {},
     "output_type": "execute_result"
    }
   ],
   "source": [
    "f.integrate(1,2)"
   ]
  },
  {
   "cell_type": "code",
   "execution_count": 42,
   "id": "dc448246",
   "metadata": {},
   "outputs": [
    {
     "data": {
      "text/plain": [
       "14.99175058726595"
      ]
     },
     "execution_count": 42,
     "metadata": {},
     "output_type": "execute_result"
    }
   ],
   "source": [
    "f.integrate(1,2,100)"
   ]
  },
  {
   "cell_type": "markdown",
   "id": "1265e94d",
   "metadata": {},
   "source": [
    "### توابع بی نام\n",
    "lambda expression"
   ]
  },
  {
   "cell_type": "code",
   "execution_count": 43,
   "id": "8f553815",
   "metadata": {},
   "outputs": [
    {
     "data": {
      "text/plain": [
       "<function __main__.<lambda>(x)>"
      ]
     },
     "execution_count": 43,
     "metadata": {},
     "output_type": "execute_result"
    }
   ],
   "source": [
    "lambda x: x**2"
   ]
  },
  {
   "cell_type": "code",
   "execution_count": 44,
   "id": "9d29a9f0",
   "metadata": {},
   "outputs": [],
   "source": [
    "f = lambda x: x**2"
   ]
  },
  {
   "cell_type": "code",
   "execution_count": 45,
   "id": "4dadb809",
   "metadata": {},
   "outputs": [
    {
     "data": {
      "text/plain": [
       "4"
      ]
     },
     "execution_count": 45,
     "metadata": {},
     "output_type": "execute_result"
    }
   ],
   "source": [
    "f(2)"
   ]
  },
  {
   "cell_type": "code",
   "execution_count": 46,
   "id": "83a7ae7d",
   "metadata": {},
   "outputs": [],
   "source": [
    "f = Function(lambda x: exp(x**2))"
   ]
  },
  {
   "cell_type": "code",
   "execution_count": 47,
   "id": "368ae5dd",
   "metadata": {},
   "outputs": [
    {
     "data": {
      "text/plain": [
       "14.990419673885118"
      ]
     },
     "execution_count": 47,
     "metadata": {},
     "output_type": "execute_result"
    }
   ],
   "source": [
    "f.integrate(1,2,200)"
   ]
  },
  {
   "cell_type": "code",
   "execution_count": null,
   "id": "12c290d3",
   "metadata": {},
   "outputs": [],
   "source": []
  }
 ],
 "metadata": {
  "kernelspec": {
   "display_name": "Python 3 (ipykernel)",
   "language": "python",
   "name": "python3"
  },
  "language_info": {
   "codemirror_mode": {
    "name": "ipython",
    "version": 3
   },
   "file_extension": ".py",
   "mimetype": "text/x-python",
   "name": "python",
   "nbconvert_exporter": "python",
   "pygments_lexer": "ipython3",
   "version": "3.9.12"
  }
 },
 "nbformat": 4,
 "nbformat_minor": 5
}
