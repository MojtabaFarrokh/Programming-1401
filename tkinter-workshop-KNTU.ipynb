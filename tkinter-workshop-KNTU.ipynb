{
 "cells": [
  {
   "cell_type": "markdown",
   "id": "e4174841",
   "metadata": {
    "direction": "ltr"
   },
   "source": [
    "<h1><center>Workshop on Python GUI with tkinter</center></h1>\n",
    "<h2><center>    May 28, 2023</center></h2>\n",
    "<h3><center>    K. N. Toosi University of Technology</center></h3>\n",
    "<h3><center>    Faculty of Aerospace Engineering</center></h3>"
   ]
  },
  {
   "cell_type": "markdown",
   "id": "13909515",
   "metadata": {},
   "source": [
    "## Table of Contents\n",
    "* [Introdction](#introduction)\n",
    "* [First Example](#first_example)\n",
    "* [Widgets](#Widgets)\n",
    "    - [Label](#label)\n",
    "    - [Button](#button)\n",
    "* [Geometry Managment](#geometry)\n",
    "    - [place](#place)\n",
    "    - [pack](#pack)\n",
    "    - [grid](#grid)\n",
    "* [Control Variables](#control)\n",
    "* [Check Button](#checkbutton)\n",
    "* [Radio Button](#radiobutton)\n",
    "* [Ttk Widgets](#ttk)\n",
    "    - [Combobox](#combobox)\n",
    "* [Project: Mini Calculator](#project)\n",
    "* [Menu](#menu)"
   ]
  },
  {
   "cell_type": "markdown",
   "id": "f7174b6b",
   "metadata": {},
   "source": [
    "<a name = 'introduction'></a>\n",
    "## Introduction\n",
    "\n",
    "Python provides various options for developing graphical user interfaces (GUIs). **Tkinter** is the Python interface to the <a href=\"https://en.wikipedia.org/wiki/Tk_(software)\" >Tk GUI</a> toolkit shipped with Python. "
   ]
  },
  {
   "cell_type": "markdown",
   "id": "ecc0da78",
   "metadata": {},
   "source": [
    "<a name=\"first_example\"></a>\n",
    "## First Example"
   ]
  },
  {
   "cell_type": "code",
   "execution_count": 4,
   "id": "c243a7d8",
   "metadata": {
    "direction": "rtl"
   },
   "outputs": [],
   "source": [
    "import tkinter as tk # python 3.x\n",
    "## import Tkinter as tk # python 2.x\n",
    "\n",
    "root = tk.Tk()\n",
    "root.mainloop()\n"
   ]
  },
  {
   "attachments": {
    "image.png": {
     "image/png": "[encoded data removed]"
    }
   },
   "cell_type": "markdown",
   "id": "1a794bea",
   "metadata": {},
   "source": [
    "![image.png](attachment:image.png)"
   ]
  },
  {
   "cell_type": "markdown",
   "id": "d7502374",
   "metadata": {},
   "source": [
    "<a name=\"widgets\"></a>\n",
    "## Widgets\n",
    "In general,  **Widget** is an element of Graphical User Interface (GUI) that displays/illustrates information or gives a way for the user to interact with the OS.  In **Tkinter** , **Widgets** are objects ; instances of classes that represent buttons, frames, and so on.  "
   ]
  },
  {
   "cell_type": "markdown",
   "id": "000b2980",
   "metadata": {},
   "source": [
    "Widgets\t| Description\n",
    ":--|:--\n",
    "**Label** |\tIt is used to display text or image on the screen\n",
    "**Button** |\tIt is used to add buttons to your application\n",
    "**Canvas** |\tIt is used to draw pictures and others layouts like texts, graphics etc.\n",
    "**ComboBox** |\tIt contains a down arrow to select from list of available options\n",
    "**CheckButton** |\tIt displays a number of options to the user as toggle buttons from which user can select any number of options.\n",
    "**RadiButton** |\tIt is used to implement one-of-many selection as it allows only one option to be selected\n",
    "**Entry** |\tIt is used to input single line text entry from user\n",
    "**Frame** |\tIt is used as container to hold and organize the widgets\n",
    "**Message** |\tIt works same as that of label and refers to multi-line and non-editable text\n",
    "**Scale** |\tIt is used to provide a graphical slider which allows to select any value from that scale\n",
    "**Scrollbar** |\tIt is used to scroll down the contents. It provides a slide controller.\n",
    "**SpinBox** |\tIt is allows user to select from given set of values\n",
    "**Text** |\tIt allows user to edit multiline text and format the way it has to be displayed\n",
    "**Menu** |\tIt is used to create all kinds of menu used by an application"
   ]
  },
  {
   "cell_type": "markdown",
   "id": "9adabb05",
   "metadata": {},
   "source": [
    "<a name=\"label\"></a>\n",
    "### Label Widget\n",
    "\n",
    "```python\n",
    "w = Label ( master, option, … )\n",
    "```\n",
    "\n",
    "Parameters:\n",
    "* **master**: This represents the parent window\n",
    "* **options**: Below is the list of most commonly used options for this widget. These options can be used as key-value pairs separated by commas:\n",
    "\n",
    "\n",
    "Option | Description \n",
    ":--|:--\n",
    "**anchor** | This options is used to control the positioning of the text if the widget has more space than required for the text. The default is anchor=CENTER, which centers the text in the available space.\n",
    "**bg**|This option is used to set the normal background clior displayed behind the label and indicator.\n",
    "**height**|This option is used to set the vertical dimension of the new frame.\n",
    "**width**| Width of the label in characters (not pixels!). If this option is not set, the label will be sized to fit its contents.\n",
    "**bd**|This option is used to set the size of the border around the indicator. Default bd value is set on 2 pixels.\n",
    "**font**|If you are displaying text in the label (with the text or textvariable option), the font option is used to specify in what font that text in the label will be displayed.\n",
    "**cursor**|It is used to specify what cursor to show when the mouse is moved over the label. The default is to use the standard cursor.\n",
    "**textvariable**| As the name suggests it is associated with a Tkinter variable (usually a StringVar) with the label. If the variable is changed, the label text is updated.\n",
    "**bitmap**|It is used to set the bitmap to the graphical object specified so that, the label can represent the graphics instead of text.\n",
    "**fg**|The label clior, used for text and bitmap labels. The default is system specific. If you are displaying a bitmap, this is the clior that will appear at the position of the 1-bits in the bitmap.\n",
    "**image**| This option is used to display a static image in the label widget.\n",
    "**padx**|This option is used to add extra spaces between left and right of the text within the label.The default value for this option is 1.\n",
    "**pady**|This option is used to add extra spaces between top and bottom of the text within the label.The default value for this option is 1.\n",
    "**justify**|This option is used to define how to align multiple lines of text. Use LEFT, RIGHT, or CENTER as its values. Note that to position the text inside the widget, use the anchor option. Default value for justify is CENTER.\n",
    "**relief**| This option is used to specify appearance of a decorative border around the label. The default value for this option is FLAT.\n",
    "**underline**|This\n",
    "**wraplength**|Instead of having only one line as the label text it can be broken itno to the number of lines where each line has the number of characters specified to this option.\n"
   ]
  },
  {
   "cell_type": "code",
   "execution_count": 7,
   "id": "f62a69b6",
   "metadata": {},
   "outputs": [],
   "source": [
    "import tkinter as tk\n",
    "\n",
    "root = tk.Tk()\n",
    "# giving title to the main window\n",
    "root.title(\"First_Program\")\n",
    "root.minsize(400,200)\n",
    "\n",
    "# Label is what output will be \n",
    "# show on the window\n",
    "label = tk.Label(root,text=\"Hello World!\")\n",
    "label.pack()\n",
    "  \n",
    "# calling mainloop method which is used\n",
    "# when your application is ready to run\n",
    "# and it tells the code to keep displaying \n",
    "root.mainloop()"
   ]
  },
  {
   "attachments": {
    "image-2.png": {
     "image/png": "[encoded data removed]"
    }
   },
   "cell_type": "markdown",
   "id": "6bcd8194",
   "metadata": {},
   "source": [
    "![image-2.png](attachment:image-2.png)"
   ]
  },
  {
   "cell_type": "markdown",
   "id": "acf65e5f",
   "metadata": {},
   "source": [
    "<a name=\"button\"></a>\n",
    "### Button Widget\n",
    "\n",
    "```python\n",
    "w = Button ( master, option=value, ... )\n",
    "```\n",
    "\n",
    "Option | Description \n",
    ":--|:--\n",
    "**activebackground**| Background color when the button is under the cursor.\n",
    "**activeforeground**|Foreground color when the button is under the cursor.\n",
    "**bd**|Border width in pixels. Default is 2.\n",
    "**bg**|Normal background color.\n",
    "**command**|Function or method to be called when the button is clicked.\n",
    "**fg**|Normal foreground (text) color.\n",
    "**font**|Text font to be used for the button's label.\n",
    "**height**|Height of the button in text lines (for textual buttons) or pixels (for images).\n",
    "**highlightcolor**|The color of the focus highlight when the widget has focus.\n",
    "**image**|Image to be displayed on the button (instead of text).\n",
    "**justify**|How to show multiple text lines: LEFT to left-justify each line; CENTER to center them; or RIGHT to right-justify.\n",
    "**padx**|Additional padding left and right of the text.\n",
    "**pady**|Additional padding above and below the text.\n",
    "**relief**|Relief specifies the type of the border. Some of the values are SUNKEN, RAISED, GROOVE, and RIDGE.\n",
    "**state**|Set this option to DISABLED to gray out the button and make it unresponsive. Has the value ACTIVE when the mouse is over it. Default is NORMAL.\n",
    "**underline**|Default is -1, meaning that no character of the text on the button will be underlined. If nonnegative, the corresponding text character will be underlined.\n",
    "**width**|Width of the button in letters (if displaying text) or pixels (if displaying an image).\n",
    "**wraplength**|If this value is set to a positive number, the text lines will be wrapped to fit within this length.\n"
   ]
  },
  {
   "cell_type": "code",
   "execution_count": 8,
   "id": "7ee24784",
   "metadata": {},
   "outputs": [],
   "source": [
    "import tkinter as tk\n",
    "import webbrowser\n",
    "# create root window\n",
    "root = tk.Tk()\n",
    "\n",
    "# setting the window size in pixel \n",
    "root.geometry('200x200')\n",
    "\n",
    "# frame inside root window\n",
    "frame = tk.Frame(root)\n",
    "\n",
    "# geometry method\n",
    "frame.pack()\n",
    "\n",
    "# button inside frame which is\n",
    "# inside root\n",
    "button = tk.Button(frame, text ='KNTU',\n",
    "            command=lambda: webbrowser.open_new_tab(\"https:\\\\kntu.ac.ir\"))\n",
    "button.pack()\n",
    "\n",
    "# Tkinter event loop\n",
    "root.mainloop()\n"
   ]
  },
  {
   "attachments": {
    "image-5.png": {
     "image/png": "[encoded data removed]"
    }
   },
   "cell_type": "markdown",
   "id": "9458b041",
   "metadata": {},
   "source": [
    "![image-5.png](attachment:image-5.png)"
   ]
  },
  {
   "cell_type": "markdown",
   "id": "de661099",
   "metadata": {},
   "source": [
    "<a name=\"geometry\"></a>\n",
    "## Geometry Management\n",
    "\n",
    "_Creating a new widget doesn’t mean that it will appear on the screen._ To display it, we need to call a special method: either **grid**, **pack** (example above), or **place**. \n",
    "\n",
    "\n",
    "Method|\tDescription\n",
    ":---|:---\n",
    "**pack()** |\tThe Pack geometry manager packs widgets in rows or columns. \n",
    "**grid()** |\tThe Grid geometry manager puts the widgets in a 2-dimensional table.The master widget is split into a number of rows and columns, and each “cell” in the resulting table can hold a widget.\n",
    "**place()** |\tThe Place geometry manager is the simplest of the three general geometry managers provided in Tkinter. It allows you explicitly set the position and size of a window, either in absolute terms, or relative to another window."
   ]
  },
  {
   "cell_type": "markdown",
   "id": "0f6ace55",
   "metadata": {},
   "source": [
    "<a name=\"place\"></a>\n",
    "### place method\n",
    "```python\n",
    "widget.place( place_options )\n",
    "```\n",
    "\n",
    "\n",
    "Option| Desceription\n",
    ":--|:--\n",
    "**anchor**| The exact spot of widget other options refer to: may be N, E, S, W, NE, NW, SE, or SW, compass directions indicating the corners and sides of widget; default is NW (the upper left corner of widget)\n",
    "**bordermode**| INSIDE (the default) to indicate that other options refer to the parent's inside (ignoring the parent's border); OUTSIDE otherwise.\n",
    "**height**, **width**| Height and width in pixels.\n",
    "**relheight**, **relwidth**| Height and width as a float between 0.0 and 1.0, as a fraction of the height and width of the parent widget.\n",
    "**relx**, **rely**| Horizontal and vertical offset as a float between 0.0 and 1.0, as a fraction of the height and width of the parent widget.\n",
    "**x**, **y**| Horizontal and vertical offset in pixels.\n"
   ]
  },
  {
   "cell_type": "code",
   "execution_count": 9,
   "id": "d52a3af1",
   "metadata": {},
   "outputs": [],
   "source": [
    "import tkinter as tk\n",
    "\n",
    "top = tk.Tk()\n",
    "top.geometry(\"450x300\")\n",
    "\n",
    "# the label for user_name\n",
    "user_name = tk.Label(top,text = \"Username\").place(x=40,y=60)\n",
    "\n",
    "# the label for user_password\n",
    "user_password = tk.Label(top,text = \"Password\").place(x=40,y=100)\n",
    "\n",
    "# Entry for username\n",
    "user_name_input_area = tk.Entry(top,width = 30).place(x=110,y=60)\n",
    "\n",
    "# Entry for password\n",
    "user_password_entry_area = tk.Entry(top,width = 30,show='*').place(x = 110,\n",
    "                                                                   y = 100)\n",
    "\n",
    "# submit button\n",
    "submit_button = tk.Button(top,text = \"Submit\").place(x = 40,y = 130)\n",
    "\n",
    "top.mainloop()\n"
   ]
  },
  {
   "attachments": {
    "image.png": {
     "image/png": "[encoded data removed]"
    }
   },
   "cell_type": "markdown",
   "id": "eadd6e13",
   "metadata": {},
   "source": [
    "![image.png](attachment:image.png)"
   ]
  },
  {
   "cell_type": "markdown",
   "id": "58a4a885",
   "metadata": {},
   "source": [
    "<a name=\"pack\"></a>\n",
    "### pack method\n",
    "\n",
    "```python\n",
    "widget.pack( pack_options )\n",
    "```\n",
    "\n",
    "Option| Desceription\n",
    ":--|:--\n",
    "**after**| widget - pack it after you have packed widget\n",
    "**anchor**| NSEW (or subset) - position widget according to given direction\n",
    "**before**| widget - pack it before you will pack widget\n",
    "**expand**| bool - expand widget if parent size grows\n",
    "**fill**| NONE or X or Y or BOTH - fill widget if widget grows\n",
    "**in**|master - use master to contain this widget\n",
    "**ipadx**|amount - add internal padding in x direction\n",
    "**ipady**|amount - add internal padding in y direction\n",
    "**padx**|amount - add padding in x direction\n",
    "**pady**|amount - add padding in y direction\n",
    "**side**|TOP or BOTTOM or LEFT or RIGHT -  where to add this widget.\n"
   ]
  },
  {
   "cell_type": "code",
   "execution_count": 12,
   "id": "50c97762",
   "metadata": {},
   "outputs": [],
   "source": [
    "import tkinter as tk\n",
    "\n",
    "top = tk.Tk()\n",
    "top.geometry(\"450x300\")\n",
    "top_frame = tk.Frame(top)\n",
    "top_frame.pack(side=tk.TOP)\n",
    "middle_frame = tk.Frame(top)\n",
    "middle_frame.pack(side=tk.TOP)\n",
    "bottom_frame = tk.Frame(top)\n",
    "bottom_frame.pack(side=tk.BOTTOM)\n",
    "\n",
    "# the label for user_name\n",
    "user_name = tk.Label(top_frame,text = \"Username\").pack(side=tk.LEFT)\n",
    "\n",
    "# the label for user_password\n",
    "user_password = tk.Label(middle_frame,text = \"Password\").pack(side=tk.LEFT)\n",
    "\n",
    "# Entry for username\n",
    "user_name_input_area = tk.Entry(top_frame,width = 30).pack(side=tk.LEFT)\n",
    "\n",
    "# Entry for password\n",
    "user_password_entry_area = tk.Entry(middle_frame,width = 30,show='*').pack(side=tk.LEFT)\n",
    "\n",
    "# submit button\n",
    "submit_button = tk.Button(bottom_frame,text = \"Submit\").pack(side=tk.BOTTOM)\n",
    "\n",
    "top.mainloop()"
   ]
  },
  {
   "attachments": {
    "image.png": {
     "image/png": "[encoded data removed]"
    }
   },
   "cell_type": "markdown",
   "id": "1f6059f1",
   "metadata": {},
   "source": [
    "![image.png](attachment:image.png)"
   ]
  },
  {
   "cell_type": "markdown",
   "id": "080acc41",
   "metadata": {},
   "source": [
    "<a name=\"grid\"></a>\n",
    "### grid method\n",
    "\n",
    "```python\n",
    "widget.grid( grid_options )\n",
    "```\n",
    "\n",
    "Option| Desceription\n",
    ":--|:--\n",
    "    **column**| The column to put widget in; default 0 (leftmost column).\n",
    "**columnspan**| How many columns widgetoccupies; default 1.\n",
    "**ipadx, ipady**| How many pixels to pad widget, horizontally and vertically, inside widget's borders.\n",
    "**padx, pady**| How many pixels to pad widget, horizontally and vertically, outside v's borders.\n",
    "**row**| The row to put widget in; default the first row that is still empty.\n",
    "**rowspan**| How many rowswidget occupies; default 1.\n",
    "**sticky**| What to do if the cell is larger than widget. By default, with sticky='', widget is centered in its cell. sticky may be the string concatenation of zero or more of N, E, S, W, NE, NW, SE, and SW, compass directions indicating the sides and corners of the cell to which widget sticks.\n",
    "\n"
   ]
  },
  {
   "cell_type": "code",
   "execution_count": 16,
   "id": "97a2e7a9",
   "metadata": {},
   "outputs": [],
   "source": [
    "import tkinter as tk\n",
    "\n",
    "top = tk.Tk()\n",
    "top.geometry(\"450x300\")\n",
    "\n",
    "frame = tk.Frame(top)\n",
    "frame.pack()\n",
    "\n",
    "# the label for user_name\n",
    "user_name = tk.Label(frame,text = \"Username\").grid(row=0,column=0)\n",
    "\n",
    "# the label for user_password\n",
    "user_password = tk.Label(frame,text = \"Password\").grid(row=1,column=0)\n",
    "\n",
    "# Entry for username\n",
    "user_name_input_area = tk.Entry(frame,width = 30).grid(row=0,column=1,\n",
    "                                                       sticky=\"EW\")\n",
    "\n",
    "# Entry for password\n",
    "user_password_entry_area = tk.Entry(frame,width = 30,show='*').grid(row=1,column=1)\n",
    "\n",
    "# submit button\n",
    "submit_button = tk.Button(frame,text = \"Submit\").grid(row=2,column=1,\n",
    "                                                      sticky='E')\n",
    "\n",
    "top.mainloop()"
   ]
  },
  {
   "attachments": {
    "image-2.png": {
     "image/png": "[encoded data removed]"
    }
   },
   "cell_type": "markdown",
   "id": "97775c73",
   "metadata": {},
   "source": [
    "![image-2.png](attachment:image-2.png)"
   ]
  },
  {
   "cell_type": "markdown",
   "id": "af048c02",
   "metadata": {},
   "source": [
    "<a name=\"control\"></a>\n",
    "## Control variables\n",
    "A Tkinter control variable is a special object that acts like a regular Python variable in that it is a container for a value, such as a number or string.\n",
    "\n",
    " One special quality of a control variable is that it can be shared by a number of different widgets, and the control variable can remember all the widgets that are currently sharing it. This means, in particular, that if your program stores a value v into a control variable c with its c.set(v) method, any widgets that are linked to that control variable are automatically updated on the screen.\n",
    "\n",
    "Tkinter uses control variables for a number of important functions, for example:\n",
    "\n",
    "* Checkbuttons use a control variable to hold the current state of the checkbutton (on or off).\n",
    "\n",
    "* A single control variable is shared by a group of radiobuttons and can be used to tell which one of them is currently set. When the user clicks on one radiobutton in a group, the sharing of this control variable is the mechanism by which Tkinter groups radiobuttons so that when you set one, any other set radiobutton in the group is cleared.\n",
    "\n",
    "* Control variables hold text string for several applications. Normally the text displayed in an Entry widget is linked to a control variable. In several other controls, it is possible to use a string-valued control variable to hold text such as the labels of checkbuttons and radiobuttons and the content of Label widgets.\n",
    "\n",
    "* For example, you could link an Entry widget to a Label widget so that when the user changes the text in the entry and presses the Enter key, the label is automatically updated to show that same text. \n",
    "\n",
    "To get a control variable, use one of these class constructors, depending on what type of values you need to store in it: \n",
    "```python\n",
    "v = tk.DoubleVar()   # Holds a float; default value 0.0\n",
    "v = tk.IntVar()      # Holds an int; default value 0\n",
    "v = tk.StringVar()   # Holds a string; default value ''\n",
    "```\n",
    "All control variables have these two methods: \n",
    "\n",
    "method| Desceription\n",
    ":--|:--\n",
    ".get()|    Returns the current value of the variable. \n",
    ".set(value)| Changes the current value of the variable. "
   ]
  },
  {
   "cell_type": "markdown",
   "id": "c2de99a4",
   "metadata": {},
   "source": [
    "### Add fuctionality for submit button\n",
    "We want to design if the user presses submit button in previous example, the credentials will be printed."
   ]
  },
  {
   "cell_type": "code",
   "execution_count": 17,
   "id": "e5fd068e",
   "metadata": {},
   "outputs": [
    {
     "name": "stdout",
     "output_type": "stream",
     "text": [
      "Username: farrokh\n",
      "Password: mojtaba\n",
      "Username: farrokh\n",
      "Password: 123456\n"
     ]
    }
   ],
   "source": [
    "import tkinter as tk\n",
    "\n",
    "top = tk.Tk()\n",
    "top.geometry(\"450x300\")\n",
    "\n",
    "#control variable\n",
    "\n",
    "user_var = tk.StringVar()\n",
    "pass_var = tk.StringVar()\n",
    "\n",
    "\n",
    "frame = tk.Frame(top)\n",
    "frame.pack()\n",
    "\n",
    "# the label for user_name\n",
    "user_name = tk.Label(frame,text = \"Username\").grid(row=0,column=0)\n",
    "\n",
    "# the label for user_password\n",
    "user_password = tk.Label(frame,text = \"Password\").grid(row=1,column=0)\n",
    "\n",
    "# Entry for username\n",
    "user_name_input_area = tk.Entry(frame,textvariable = user_var\n",
    "                                , width = 30).grid(row=0,\n",
    "                                                   column=1,sticky=\"EW\")\n",
    "\n",
    "# Entry for password\n",
    "user_password_entry_area = tk.Entry(frame,textvariable = pass_var,\n",
    "                                    width = 30,show='*').grid(row=1,\n",
    "                                                              column=1)\n",
    "\n",
    "# print credentils function\n",
    "def print_credentials():\n",
    "    print(\"Username:\", user_var.get())\n",
    "    print(\"Password:\", pass_var.get())\n",
    "\n",
    "\n",
    "# submit button\n",
    "submit_button = tk.Button(frame,text = \"Submit\",\n",
    "                          command =print_credentials ).grid(row=2,\n",
    "                                                            column=1,\n",
    "                                                            sticky='E')\n",
    "\n",
    "top.mainloop()"
   ]
  },
  {
   "cell_type": "markdown",
   "id": "879cb489",
   "metadata": {},
   "source": [
    "<a name=\"checkbutton\"></a>\n",
    "## Checkbutton Widget\n",
    "```python\n",
    "w = Checkbutton ( master, option, ... )\n",
    "```\n",
    "\n",
    "Option | Description \n",
    ":--|:--\n",
    "**height**|The number of lines of text on the checkbutton. Default is 1.\n",
    "**offvalue**|Normally, a checkbutton's associated control variable will be set to 0 when it is cleared (off). You can supply an alternate value for the off state by setting offvalue to that value.\n",
    "**onvalue**| Normally, a checkbutton's associated control variable will be set to 1 when it is set (on). You can supply an alternate value for the on state by setting onvalue to that value.\n",
    "**text**|The label displayed next to the checkbutton. Use newlines (\"\\n\") to display multiple lines of text.\n",
    "**variable**|The control variable that tracks the current state of the checkbutton. Normally this variable is an IntVar, and 0 means cleared and 1 means set, but see the offvalue and onvalue options above.\n",
    "**width**|The default width of a checkbutton is determined by the size of the displayed image or text. You can set this option to a number of characters and the checkbutton will always have room for that many characters."
   ]
  },
  {
   "cell_type": "code",
   "execution_count": 18,
   "id": "3c3682d7",
   "metadata": {},
   "outputs": [
    {
     "name": "stdout",
     "output_type": "stream",
     "text": [
      "The selected courses are:\n",
      "Basic Python\n",
      "Python for ABAQUS\n",
      "The selected courses are:\n",
      "Applied Python\n"
     ]
    }
   ],
   "source": [
    "import tkinter as tk\n",
    "root = tk.Tk()\n",
    "root.geometry(\"300x200\")\n",
    "\n",
    "w = tk.Label(root, text ='Courses', font = \"50\")\n",
    "w.pack()\n",
    "\n",
    "Checkbutton1 = tk.IntVar()\n",
    "Checkbutton2 = tk.IntVar()\n",
    "Checkbutton3 = tk.IntVar()\n",
    "\n",
    "Button1 = tk.Checkbutton(root, text = \"Basic Python\",\n",
    "\t\t\t\t\tvariable = Checkbutton1,\n",
    "\t\t\t\t\tonvalue = 1,\n",
    "\t\t\t\t\toffvalue = 0,\n",
    "\t\t\t\t\theight = 2,\n",
    "\t\t\t\t\twidth = 30)\n",
    "\n",
    "Button2 = tk.Checkbutton(root, text = \"Applied Python\",\n",
    "\t\t\t\t\tvariable = Checkbutton2,\n",
    "\t\t\t\t\tonvalue = 1,\n",
    "\t\t\t\t\toffvalue = 0,\n",
    "\t\t\t\t\theight = 2,\n",
    "\t\t\t\t\twidth = 30)\n",
    "\n",
    "Button3 = tk.Checkbutton(root, text = \"Python for ABAQUS\",\n",
    "\t\t\t\t\tvariable = Checkbutton3,\n",
    "\t\t\t\t\tonvalue = 1,\n",
    "\t\t\t\t\toffvalue = 0,\n",
    "\t\t\t\t\theight = 2,\n",
    "\t\t\t\t\twidth = 30)\n",
    "\t\n",
    "Button1.pack()\n",
    "Button2.pack()\n",
    "Button3.pack()\n",
    "\n",
    "def print_selected():\n",
    "    print(\"The selected courses are:\")\n",
    "    if (Checkbutton1.get()): print(\"Basic Python\")\n",
    "    if (Checkbutton2.get()): print(\"Applied Python\")\n",
    "    if (Checkbutton3.get()): print(\"Python for ABAQUS\")\n",
    "\n",
    "tk.Button(root, text=\"submit\", command=print_selected).pack()\n",
    "root.mainloop()\n"
   ]
  },
  {
   "attachments": {
    "image-2.png": {
     "image/png": "[encoded data removed]"
    }
   },
   "cell_type": "markdown",
   "id": "2dd72b22",
   "metadata": {},
   "source": [
    "![image-2.png](attachment:image-2.png)"
   ]
  },
  {
   "cell_type": "markdown",
   "id": "ac98ad14",
   "metadata": {},
   "source": [
    "<a name=\"radiobutton\"></a>\n",
    "## Radiobutton Widget\n",
    "\n",
    "```python\n",
    "w = Radiobutton ( master, option, ...  )\n",
    "```\n",
    "\n",
    "Option | Description \n",
    ":--|:--\n",
    "**command**|A procedure to be called every time the user changes the state of this radiobutton.\n",
    "**text**|The label displayed next to the radiobutton. Use newlines (\"\\n\") to display multiple lines of text.\n",
    "**value**| When a radiobutton is turned on by the user, its control variable is set to its current value option. If the control variable is an IntVar, give each radiobutton in the group a different integer value option. If the control variable is a StringVar, give each radiobutton a different string value option.\n",
    "**variable**|The control variable that this radiobutton shares with the other radiobuttons in the group. This can be either an IntVar or a StringVar.\n",
    "...|..."
   ]
  },
  {
   "cell_type": "code",
   "execution_count": 19,
   "id": "3d363aba",
   "metadata": {},
   "outputs": [],
   "source": [
    "import tkinter as tk\n",
    "\n",
    "root = tk.Tk()\n",
    "root.geometry('175x100')\n",
    "var = tk.IntVar()\n",
    "\n",
    "def sel():\n",
    "   selection = \"You selected the option \" + str(var.get())\n",
    "   #label.config(text = selection)\n",
    "   label['text'] = selection \n",
    "\n",
    "R1 = tk.Radiobutton(root, text=\"Option 1\", variable=var, value=1,\n",
    "                  command=sel)\n",
    "R1.pack(anchor=tk.W )\n",
    "\n",
    "R2 = tk.Radiobutton(root, text=\"Option 2\", variable=var, value=2,\n",
    "                  command=sel)\n",
    "R2.pack( anchor = tk.W )\n",
    "\n",
    "R3 = tk.Radiobutton(root, text=\"Option 3\", variable=var, value=3,\n",
    "                  command=sel)\n",
    "R3.pack( anchor = tk.W)\n",
    "\n",
    "label = tk.Label(root)\n",
    "label.pack()\n",
    "root.mainloop()"
   ]
  },
  {
   "attachments": {
    "image.png": {
     "image/png": "[encoded data removed]"
    }
   },
   "cell_type": "markdown",
   "id": "00126143",
   "metadata": {},
   "source": [
    "![image.png](attachment:image.png)"
   ]
  },
  {
   "cell_type": "markdown",
   "id": "2b4b8a3c",
   "metadata": {},
   "source": [
    "<a name=\"ttk\"></a>\n",
    "## Ttk Widgets\n",
    "\n",
    "Ttk comes with 18 widgets, twelve of which already existed in tkinter: Button, Checkbutton, Entry, Frame, Label, LabelFrame, Menubutton, PanedWindow, Radiobutton, Scale, Scrollbar, and Spinbox. The other six are new: **Combobox**, **Notebook**, **Progressbar**, **Separator**, **Sizegrip** and **Treeview**. And all them are subclasses of Widget.\n",
    "\n",
    "Using the Ttk widgets gives the application an improved look and feel.\n",
    "\n",
    "#### Using Ttk\n",
    "To start using Ttk, import its module:\n",
    "\n",
    "```python\n",
    "from tkinter import ttk\n",
    "```\n",
    "\n",
    "To override the basic Tk widgets, the import should follow the Tk import:\n",
    "```python\n",
    "from tkinter import *\n",
    "from tkinter.ttk import *\n",
    "```\n"
   ]
  },
  {
   "cell_type": "markdown",
   "id": "8df67159",
   "metadata": {},
   "source": [
    "<a name=\"combobox\"></a>\n",
    "### Combobox\n",
    "\n",
    "This widget accepts the following specific options:\n",
    "\n",
    "Option| Desceription\n",
    ":--|:-- \n",
    "**exportselection**|Boolean value. If set, the widget selection is linked to the Window Manager selection (which can be returned by invoking Misc.selection_get, for example).\n",
    "**justify**| Specifies how the text is aligned within the widget. One of \"left\", \"center\", or \"right\".\n",
    "**height**|    Specifies the height of the pop-down listbox, in rows.\n",
    "**postcommand**| A script (possibly registered with Misc.register) that is called immediately before displaying the values. It may specify which values to display.\n",
    "**state**| One of \"normal\", \"readonly\", or \"disabled\". In the \"readonly\" state, the value may not be edited directly, and the user can only selection of the values from the dropdown list. In the \"normal\" state, the text field is directly editable. In the \"disabled\" state, no interaction is possible.\n",
    "**textvariable**| Specifies a name whose value is linked to the widget value. Whenever the value associated with that name changes, the widget value is updated, and vice versa. See tkinter.StringVar.\n",
    "**values**|Specifies the list of values to display in the drop-down listbox.\n",
    "**width**| Specifies an integer value indicating the desired width of the entry window, in average-size characters of the widget’s font.\n",
    "\n",
    "Available methods are:\n",
    "\n",
    "method| Desceription\n",
    ":--|:--\n",
    "**current(newindex=None)**|  If newindex is specified, sets the combobox value to the element position newindex. Otherwise, returns the index of the current value or -1 if the current value is not in the values list.\n",
    "**get()**| Returns the current value of the combobox.\n",
    "**set(value)**|Sets the value of the combobox to value.\n",
    "\n"
   ]
  },
  {
   "cell_type": "code",
   "execution_count": 20,
   "id": "de3a90ad",
   "metadata": {},
   "outputs": [],
   "source": [
    "import tkinter as tk\n",
    "from tkinter import ttk\n",
    "from tkinter.messagebox import showinfo\n",
    "\n",
    "root = tk.Tk()\n",
    "root.geometry('300x250')\n",
    "root.resizable(False, False)\n",
    "root.title('Combobox Widget')\n",
    "\n",
    "\n",
    "def month_changed(event):\n",
    "    msg = f'You selected {month_cb.get()}!'\n",
    "    showinfo(title='Result', message=msg)\n",
    "\n",
    "\n",
    "# month of year\n",
    "months = ('Jan', 'Feb', 'Mar', 'Apr', 'May', 'Jun',\n",
    "        'Jul', 'Aug', 'Sep', 'Oct', 'Nov', 'Dec')\n",
    "\n",
    "label = ttk.Label(text=\"Please select a month:\")\n",
    "label.pack(fill='x', padx=5, pady=5)\n",
    "\n",
    "# create a combobox\n",
    "selected_month = tk.StringVar()\n",
    "\n",
    "month_cb = ttk.Combobox(root, textvariable=selected_month)\n",
    "month_cb['values'] = months\n",
    "month_cb['state'] = 'readonly'  # normal\n",
    "month_cb.pack(fill='x', padx=5, pady=5)\n",
    "\n",
    "month_cb.bind('<<ComboboxSelected>>', month_changed)\n",
    "\n",
    "root.mainloop()"
   ]
  },
  {
   "attachments": {
    "image.png": {
     "image/png": "[encoded data removed]"
    }
   },
   "cell_type": "markdown",
   "id": "b3a9161c",
   "metadata": {},
   "source": [
    "![image.png](attachment:image.png)"
   ]
  },
  {
   "cell_type": "markdown",
   "id": "015251a6",
   "metadata": {},
   "source": [
    "<a name=\"project\"></a>\n",
    "## Project: Mini Calculator"
   ]
  },
  {
   "attachments": {
    "image.png": {
     "image/png": "[encoded data removed]"
    }
   },
   "cell_type": "markdown",
   "id": "1852828a",
   "metadata": {},
   "source": [
    "![image.png](attachment:image.png)"
   ]
  },
  {
   "cell_type": "code",
   "execution_count": 23,
   "id": "c072948d",
   "metadata": {},
   "outputs": [
    {
     "name": "stderr",
     "output_type": "stream",
     "text": [
      "Exception in Tkinter callback\n",
      "ValueError: Error from parse_expr with transformed code: \"Symbol ('x' )**Integer (2 )-Integer (1 )=Integer (0 )\"\n",
      "\n",
      "The above exception was the direct cause of the following exception:\n",
      "\n",
      "Traceback (most recent call last):\n",
      "  File \"C:\\ProgramData\\Anaconda3\\lib\\site-packages\\sympy\\core\\sympify.py\", line 495, in sympify\n",
      "    expr = parse_expr(a, local_dict=locals, transformations=transformations, evaluate=evaluate)\n",
      "  File \"C:\\ProgramData\\Anaconda3\\lib\\site-packages\\sympy\\parsing\\sympy_parser.py\", line 1105, in parse_expr\n",
      "    raise e from ValueError(f\"Error from parse_expr with transformed code: {code!r}\")\n",
      "  File \"C:\\ProgramData\\Anaconda3\\lib\\site-packages\\sympy\\parsing\\sympy_parser.py\", line 1096, in parse_expr\n",
      "    rv = eval_expr(code, local_dict, global_dict)\n",
      "  File \"C:\\ProgramData\\Anaconda3\\lib\\site-packages\\sympy\\parsing\\sympy_parser.py\", line 915, in eval_expr\n",
      "    expr = eval(\n",
      "  File \"<string>\", line 1\n",
      "    Symbol ('x' )**Integer (2 )-Integer (1 )=Integer (0 )\n",
      "                                            ^\n",
      "SyntaxError: invalid syntax\n",
      "\n",
      "During handling of the above exception, another exception occurred:\n",
      "\n",
      "Traceback (most recent call last):\n",
      "  File \"C:\\ProgramData\\Anaconda3\\lib\\tkinter\\__init__.py\", line 1892, in __call__\n",
      "    return self.func(*args)\n",
      "  File \"C:\\Users\\mojta\\AppData\\Local\\Temp\\ipykernel_3936\\3373549945.py\", line 28, in solve_calc\n",
      "    res = solve(sympify(str_var.get()))\n",
      "  File \"C:\\ProgramData\\Anaconda3\\lib\\site-packages\\sympy\\core\\sympify.py\", line 497, in sympify\n",
      "    raise SympifyError('could not parse %r' % a, exc)\n",
      "sympy.core.sympify.SympifyError: Sympify of expression 'could not parse 'x**2-1=0'' failed, because of exception being raised:\n",
      "SyntaxError: invalid syntax (<string>, line 1)\n"
     ]
    },
    {
     "data": {
      "image/png": "[encoded data removed]",
      "text/plain": [
       "<Figure size 432x288 with 1 Axes>"
      ]
     },
     "metadata": {
      "needs_background": "light"
     },
     "output_type": "display_data"
    }
   ],
   "source": [
    "import tkinter as tk\n",
    "from sympy import *\n",
    "x = symbols('x')\n",
    "\n",
    "root = tk.Tk()\n",
    "root.minsize(300,100)\n",
    "root.title(\"Mini Calculator\")\n",
    "\n",
    "\n",
    "str_var = tk.StringVar()\n",
    "\n",
    "def calc():\n",
    "    entry_str = str_var.get()\n",
    "    try:\n",
    "        res = N(sympify(entry_str))\n",
    "        str_var.set(res)\n",
    "    except:\n",
    "        tk.messagebox.showerror(title=\"Entry Error\", \n",
    "                                message=\"Entry Error, Try again!\")\n",
    "def calc_diff():\n",
    "    res=diff(sympify(str_var.get()),x)\n",
    "    str_var.set(res)\n",
    "def calc_int():\n",
    "    res=integrate(sympify(str_var.get()),x)\n",
    "    str_var.set(res)\n",
    "    \n",
    "def solve_calc():\n",
    "    res = solve(sympify(str_var.get()))\n",
    "    str_var.set(str(res))\n",
    "def plot_func():\n",
    "    plot(sympify(str_var.get()))\n",
    "    \n",
    "def clear_entry():\n",
    "    str_var.set('')\n",
    "\n",
    "label = tk.Label(root, text='Enter your expression in the box:',\n",
    "                 font=('Arial',12),fg='blue')\n",
    "label.pack()\n",
    "textbox = tk.Entry(root,textvariable = str_var,font=('Arial',12))\n",
    "textbox.pack(fill=tk.X)\n",
    "\n",
    "calc_btn = tk.Button(root,text='=',command=calc,font=('Arial',12))\n",
    "\n",
    "diff_btn = tk.Button(root,text='diff',command=calc_diff,font=('Arial',12))\n",
    "\n",
    "int_btn = tk.Button(root,text='Int',command=calc_int,font=('Arial',12))\n",
    "\n",
    "sympy_btn = tk.Button(root,text='Solve', command=solve_calc,\n",
    "                      font=('Arial',12))\n",
    "\n",
    "plot_btn = tk.Button(root,text='Plot', command=plot_func, font=('Arial',12))\n",
    "\n",
    "reset_btn = tk.Button(root,text='Clear Entry', width=10,command=clear_entry,\n",
    "                      font=('Arial',12))\n",
    "\n",
    "calc_btn.pack(side=tk.LEFT,padx=10)\n",
    "diff_btn.pack(sid=tk.LEFT)\n",
    "int_btn.pack(side=tk.LEFT,padx=10)\n",
    "sympy_btn.pack(side=tk.LEFT)\n",
    "plot_btn.pack(side=tk.LEFT,padx=10)\n",
    "reset_btn.pack(side=tk.LEFT)\n",
    "\n",
    "\n",
    "root.mainloop()\n"
   ]
  },
  {
   "cell_type": "markdown",
   "id": "82068c55",
   "metadata": {},
   "source": [
    "<a name=\"menu\"></a>\n",
    "## Menu\n",
    "\n",
    "```python\n",
    "w = Menu ( master, option, ... )\n",
    "```\n",
    "Option| Desceription\n",
    ":--|:-- \n",
    "**activebackground**|The background color that will appear on a choice when it is under the mouse.\n",
    "**activeborderwidth**|Specifies the width of a border drawn around a choice when it is under the mouse. Default is 1 pixel.\n",
    "**activeforeground**|The foreground color that will appear on a choice when it is under the mouse.\n",
    "**bg**|The background color for choices not under the mouse.\n",
    "**bd**|The width of the border around all the choices. Default is 1.\n",
    "**cursor**|The cursor that appears when the mouse is over the choices, but only when the menu has been torn off.\n",
    "**disabledforeground**|The color of the text for items whose state is DISABLED.\n",
    "**font**|The default font for textual choices.\n",
    "**fg**|The foreground color used for choices not under the mouse.\n",
    "**postcommand**|You can set this option to a procedure, and that procedure will be called every time someone brings up this menu.\n",
    "**relief**|The default 3-D effect for menus is relief=RAISED.\n",
    "**image**|To display an image on this menubutton. \t\n",
    "**selectcolor**|Specifies the color displayed in checkbuttons and radiobuttons when they are selected.\n",
    "**tearoff**|Normally, a menu can be torn off, the first position (position 0) in the list of choices is occupied by the tear-off element, and the additional choices are added starting at position 1. If you set tearoff=0, the menu will not have a tear-off feature, and choices will be added starting at position 0.\n",
    "**title**|Normally, the title of a tear-off menu window will be the same as the text of the menubutton or cascade that lead to this menu. If you want to change the title of that window, set the title option to that string.\n",
    "\n",
    "#### Methods\n",
    "\n",
    "method| Desceription\n",
    ":--|:-- \t\n",
    "**add_command (options)**|Adds a menu item to the menu.\n",
    "**add_radiobutton( options )**|Creates a radio button menu item.\n",
    "**add_checkbutton( options )**|Creates a check button menu item.\n",
    "**add_cascade(options)**|Creates a new hierarchical menu by associating a given menu to a parent menu\n",
    "**add_separator()**|Adds a separator line to the menu.\n",
    "**add( type, options )**|Adds a specific type of menu item to the menu.\n",
    "**delete( startindex [, endindex ])**|Deletes the menu items ranging from startindex to endindex.\n",
    "**entryconfig( index, options )**|Allows you to modify a menu item, which is identified by the index, and change its options.\n",
    "**index(item)**|Returns the index number of the given menu item label.\n",
    "**insert_separator ( index )**|Insert a new separator at the position specified by index.\n",
    "**invoke ( index )**|Calls the command callback associated with the choice at position index. If a checkbutton, its state is toggled between set and cleared; if a radiobutton, that choice is set.\n",
    "**type ( index )**|Returns the type of the choice specified by index: either \"cascade\", \"checkbutton\", \"command\", \"radiobutton\", \"separator\", or \"tearoff\"."
   ]
  },
  {
   "cell_type": "code",
   "execution_count": 4,
   "id": "da5bcd9c",
   "metadata": {},
   "outputs": [],
   "source": [
    "from tkinter import *\n",
    "\n",
    "def donothing():\n",
    "   filewin = Toplevel(root)\n",
    "   button = Button(filewin, text=\"Do nothing button\")\n",
    "   button.pack()\n",
    "   \n",
    "root = Tk()\n",
    "menubar = Menu(root)\n",
    "filemenu = Menu(menubar, tearoff=0)\n",
    "filemenu.add_command(label=\"New\", command=donothing)\n",
    "filemenu.add_command(label=\"Open\", command=donothing)\n",
    "filemenu.add_command(label=\"Save\", command=donothing)\n",
    "filemenu.add_command(label=\"Save as...\", command=donothing)\n",
    "filemenu.add_command(label=\"Close\", command=donothing)\n",
    "\n",
    "filemenu.add_separator()\n",
    "\n",
    "filemenu.add_command(label=\"Exit\", command=root.quit)\n",
    "menubar.add_cascade(label=\"File\", menu=filemenu)\n",
    "editmenu = Menu(menubar, tearoff=0)\n",
    "editmenu.add_command(label=\"Undo\", command=donothing)\n",
    "\n",
    "editmenu.add_separator()\n",
    "\n",
    "editmenu.add_command(label=\"Cut\", command=donothing)\n",
    "editmenu.add_command(label=\"Copy\", command=donothing)\n",
    "editmenu.add_command(label=\"Paste\", command=donothing)\n",
    "editmenu.add_command(label=\"Delete\", command=donothing)\n",
    "editmenu.add_command(label=\"Select All\", command=donothing)\n",
    "\n",
    "menubar.add_cascade(label=\"Edit\", menu=editmenu)\n",
    "helpmenu = Menu(menubar, tearoff=0)\n",
    "helpmenu.add_command(label=\"Help Index\", command=donothing)\n",
    "helpmenu.add_command(label=\"About...\", command=donothing)\n",
    "menubar.add_cascade(label=\"Help\", menu=helpmenu)\n",
    "\n",
    "root.config(menu=menubar)\n",
    "root.mainloop()"
   ]
  },
  {
   "attachments": {
    "image-2.png": {
     "image/png": "[encoded data removed]"
    },
    "image.png": {
     "image/png": "[encoded data removed]"
    }
   },
   "cell_type": "markdown",
   "id": "849affde",
   "metadata": {},
   "source": [
    "![image.png](attachment:image.png)\n",
    "![image-2.png](attachment:image-2.png)\n",
    "![image-2.png](attachment:image-2.png)"
   ]
  },
  {
   "cell_type": "markdown",
   "id": "56f09aa5",
   "metadata": {},
   "source": [
    "# <center> THANK YOU FOR YOUR ATTENTION. </center>"
   ]
  }
 ],
 "metadata": {
  "kernelspec": {
   "display_name": "Python 3 (ipykernel)",
   "language": "python",
   "name": "python3"
  },
  "language_info": {
   "codemirror_mode": {
    "name": "ipython",
    "version": 3
   },
   "file_extension": ".py",
   "mimetype": "text/x-python",
   "name": "python",
   "nbconvert_exporter": "python",
   "pygments_lexer": "ipython3",
   "version": "3.9.12"
  }
 },
 "nbformat": 4,
 "nbformat_minor": 5
}
