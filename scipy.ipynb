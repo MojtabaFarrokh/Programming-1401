{
 "cells": [
  {
   "cell_type": "markdown",
   "id": "67022a89",
   "metadata": {},
   "source": [
    "# scipy"
   ]
  },
  {
   "cell_type": "markdown",
   "id": "92b19a49",
   "metadata": {},
   "source": [
    "### انتگرال گیری عددی"
   ]
  },
  {
   "cell_type": "markdown",
   "id": "eb733019",
   "metadata": {},
   "source": [
    "### quad\n",
    "General purpose integration"
   ]
  },
  {
   "cell_type": "code",
   "execution_count": 1,
   "id": "9e0c18a7",
   "metadata": {},
   "outputs": [],
   "source": [
    "import numpy as np\n",
    "from scipy.integrate import quad"
   ]
  },
  {
   "cell_type": "markdown",
   "id": "02ed5a8a",
   "metadata": {},
   "source": [
    "$I=\\int_1^2 e^{-x^2} dx$"
   ]
  },
  {
   "cell_type": "code",
   "execution_count": 2,
   "id": "2b5023b4",
   "metadata": {},
   "outputs": [],
   "source": [
    "def f(x):\n",
    "    return np.exp(-x**2)"
   ]
  },
  {
   "cell_type": "code",
   "execution_count": 3,
   "id": "f35fb8c1",
   "metadata": {},
   "outputs": [
    {
     "data": {
      "text/plain": [
       "(0.13525725794999466, 1.5016572202374808e-15)"
      ]
     },
     "execution_count": 3,
     "metadata": {},
     "output_type": "execute_result"
    }
   ],
   "source": [
    "quad(f,1,2)"
   ]
  },
  {
   "cell_type": "code",
   "execution_count": 4,
   "id": "c5f49a3c",
   "metadata": {},
   "outputs": [],
   "source": [
    "I = quad(f,1,2)[0]"
   ]
  },
  {
   "cell_type": "code",
   "execution_count": 5,
   "id": "ab9e71a8",
   "metadata": {},
   "outputs": [
    {
     "data": {
      "text/plain": [
       "0.13525725794999466"
      ]
     },
     "execution_count": 5,
     "metadata": {},
     "output_type": "execute_result"
    }
   ],
   "source": [
    "I"
   ]
  },
  {
   "cell_type": "code",
   "execution_count": 6,
   "id": "08c24c98",
   "metadata": {},
   "outputs": [
    {
     "data": {
      "text/plain": [
       "0.13525725794999466"
      ]
     },
     "execution_count": 6,
     "metadata": {},
     "output_type": "execute_result"
    }
   ],
   "source": [
    "I = quad(lambda x: np.exp(-x**2),1,2)[0]\n",
    "I"
   ]
  },
  {
   "cell_type": "markdown",
   "id": "2b7e86f3",
   "metadata": {},
   "source": [
    "$I = \\int_0^\\infty e^{-x}dx$"
   ]
  },
  {
   "cell_type": "code",
   "execution_count": 9,
   "id": "5db846e1",
   "metadata": {},
   "outputs": [],
   "source": [
    "I = quad(lambda x: np.exp(-x),0,np.inf)[0]"
   ]
  },
  {
   "cell_type": "code",
   "execution_count": 10,
   "id": "7c1d6809",
   "metadata": {},
   "outputs": [
    {
     "data": {
      "text/plain": [
       "1.0000000000000002"
      ]
     },
     "execution_count": 10,
     "metadata": {},
     "output_type": "execute_result"
    }
   ],
   "source": [
    "I"
   ]
  },
  {
   "cell_type": "markdown",
   "id": "a69b152f",
   "metadata": {},
   "source": [
    "###  انتگرال گیری دوگانه"
   ]
  },
  {
   "cell_type": "markdown",
   "id": "ebbfab2d",
   "metadata": {},
   "source": [
    "### dblqud"
   ]
  },
  {
   "cell_type": "markdown",
   "id": "a7da4d5a",
   "metadata": {},
   "source": [
    "$I= \\int_{-\\infty}^{+\\infty}\\int_{-\\infty}^{+\\infty} e^{-x^2-y^2}dxdy$"
   ]
  },
  {
   "cell_type": "code",
   "execution_count": 11,
   "id": "44bfb7a0",
   "metadata": {},
   "outputs": [],
   "source": [
    "from scipy.integrate import dblquad"
   ]
  },
  {
   "cell_type": "code",
   "execution_count": 12,
   "id": "eb607b46",
   "metadata": {},
   "outputs": [],
   "source": [
    "I = dblquad(lambda x,y: np.exp(-x**2-y**2),-np.inf,+np.inf,lambda x: -np.inf,lambda x:+np.inf)[0]"
   ]
  },
  {
   "cell_type": "code",
   "execution_count": 13,
   "id": "e148e3b6",
   "metadata": {},
   "outputs": [
    {
     "data": {
      "text/plain": [
       "3.141592653589777"
      ]
     },
     "execution_count": 13,
     "metadata": {},
     "output_type": "execute_result"
    }
   ],
   "source": [
    "I"
   ]
  },
  {
   "cell_type": "markdown",
   "id": "66ec0f0c",
   "metadata": {},
   "source": [
    "$I =  \\int_0^\\frac{1}{2}\\int_0^{1-2y}xydxdy$"
   ]
  },
  {
   "cell_type": "code",
   "execution_count": 14,
   "id": "9fd1ee00",
   "metadata": {},
   "outputs": [
    {
     "data": {
      "text/plain": [
       "0.010416666666666668"
      ]
     },
     "execution_count": 14,
     "metadata": {},
     "output_type": "execute_result"
    }
   ],
   "source": [
    "I = dblquad(lambda x,y: x*y, 0,1/2,lambda y:0 ,lambda y:1-2*y)[0]\n",
    "I"
   ]
  },
  {
   "cell_type": "code",
   "execution_count": 16,
   "id": "42840519",
   "metadata": {},
   "outputs": [],
   "source": [
    "import sympy as sp\n",
    "x,y = sp.symbols('x y')"
   ]
  },
  {
   "cell_type": "code",
   "execution_count": 17,
   "id": "2e23c5c9",
   "metadata": {},
   "outputs": [
    {
     "data": {
      "text/latex": [
       "$\\displaystyle \\frac{y \\left(1 - 2 y\\right)^{2}}{2}$"
      ],
      "text/plain": [
       "y*(1 - 2*y)**2/2"
      ]
     },
     "execution_count": 17,
     "metadata": {},
     "output_type": "execute_result"
    }
   ],
   "source": [
    "sp.integrate(x*y,(x,0,1-2*y))"
   ]
  },
  {
   "cell_type": "code",
   "execution_count": 20,
   "id": "c49aa207",
   "metadata": {},
   "outputs": [
    {
     "data": {
      "text/latex": [
       "$\\displaystyle 0.0104166666666667$"
      ],
      "text/plain": [
       "0.0104166666666667"
      ]
     },
     "execution_count": 20,
     "metadata": {},
     "output_type": "execute_result"
    }
   ],
   "source": [
    "sp.integrate(sp.integrate(x*y,(x,0,1-2*y)),(y,0,sp.Rational(1,2))).evalf()"
   ]
  },
  {
   "cell_type": "markdown",
   "id": "32133539",
   "metadata": {},
   "source": [
    "### ریشه های صفر یک معادله غیر خطی"
   ]
  },
  {
   "cell_type": "code",
   "execution_count": 21,
   "id": "6980f3a3",
   "metadata": {},
   "outputs": [],
   "source": [
    "from scipy.optimize import newton"
   ]
  },
  {
   "cell_type": "markdown",
   "id": "b4819090",
   "metadata": {},
   "source": [
    "$x^3-1=0$"
   ]
  },
  {
   "cell_type": "code",
   "execution_count": 22,
   "id": "00420a23",
   "metadata": {},
   "outputs": [
    {
     "data": {
      "text/plain": [
       "0.9999999999999973"
      ]
     },
     "execution_count": 22,
     "metadata": {},
     "output_type": "execute_result"
    }
   ],
   "source": [
    "newton(lambda x: x**3-1,0.5)"
   ]
  },
  {
   "cell_type": "code",
   "execution_count": 24,
   "id": "0ff26e1c",
   "metadata": {},
   "outputs": [
    {
     "data": {
      "text/plain": [
       "1.0"
      ]
     },
     "execution_count": 24,
     "metadata": {},
     "output_type": "execute_result"
    }
   ],
   "source": [
    "newton(lambda x: x**3-1,0.5,fprime=lambda x: 3*x**2)"
   ]
  },
  {
   "cell_type": "markdown",
   "id": "534bb1d1",
   "metadata": {},
   "source": [
    "### Polynimials"
   ]
  },
  {
   "cell_type": "code",
   "execution_count": 26,
   "id": "73e07dd6",
   "metadata": {},
   "outputs": [],
   "source": [
    "p = np.poly1d([3,4,5])"
   ]
  },
  {
   "cell_type": "code",
   "execution_count": 27,
   "id": "ec55ce38",
   "metadata": {},
   "outputs": [
    {
     "name": "stdout",
     "output_type": "stream",
     "text": [
      "   2\n",
      "3 x + 4 x + 5\n"
     ]
    }
   ],
   "source": [
    "print(p)"
   ]
  },
  {
   "cell_type": "code",
   "execution_count": 28,
   "id": "999dda0e",
   "metadata": {},
   "outputs": [
    {
     "name": "stdout",
     "output_type": "stream",
     "text": [
      "   4      3      2\n",
      "9 x + 24 x + 46 x + 40 x + 25\n"
     ]
    }
   ],
   "source": [
    "print(p*p)"
   ]
  },
  {
   "cell_type": "code",
   "execution_count": 29,
   "id": "32b80f9f",
   "metadata": {},
   "outputs": [
    {
     "name": "stdout",
     "output_type": "stream",
     "text": [
      "   2\n",
      "6 x + 8 x + 10\n"
     ]
    }
   ],
   "source": [
    "print(p+p)"
   ]
  },
  {
   "cell_type": "code",
   "execution_count": 30,
   "id": "a3ece3ff",
   "metadata": {},
   "outputs": [
    {
     "name": "stdout",
     "output_type": "stream",
     "text": [
      " \n",
      "6 x + 4\n"
     ]
    }
   ],
   "source": [
    "print(p.deriv())"
   ]
  },
  {
   "cell_type": "code",
   "execution_count": 31,
   "id": "a88a6315",
   "metadata": {},
   "outputs": [
    {
     "data": {
      "text/plain": [
       "poly1d([6, 4])"
      ]
     },
     "execution_count": 31,
     "metadata": {},
     "output_type": "execute_result"
    }
   ],
   "source": [
    "p.deriv()"
   ]
  },
  {
   "cell_type": "code",
   "execution_count": 32,
   "id": "f432246a",
   "metadata": {},
   "outputs": [
    {
     "name": "stdout",
     "output_type": "stream",
     "text": [
      "   3     2\n",
      "1 x + 2 x + 5 x\n"
     ]
    }
   ],
   "source": [
    "print(p.integ())"
   ]
  },
  {
   "cell_type": "code",
   "execution_count": 33,
   "id": "34226e4a",
   "metadata": {},
   "outputs": [
    {
     "name": "stdout",
     "output_type": "stream",
     "text": [
      "   3     2\n",
      "1 x + 2 x + 5 x + 6\n"
     ]
    }
   ],
   "source": [
    "print(p.integ(k=6))"
   ]
  },
  {
   "cell_type": "code",
   "execution_count": 34,
   "id": "eb33303e",
   "metadata": {},
   "outputs": [
    {
     "name": "stdout",
     "output_type": "stream",
     "text": [
      "   2\n",
      "3 x + 4 x + 5\n"
     ]
    }
   ],
   "source": [
    "print(p)"
   ]
  },
  {
   "cell_type": "code",
   "execution_count": 35,
   "id": "cad08e43",
   "metadata": {},
   "outputs": [
    {
     "data": {
      "text/plain": [
       "25"
      ]
     },
     "execution_count": 35,
     "metadata": {},
     "output_type": "execute_result"
    }
   ],
   "source": [
    "p(2)"
   ]
  },
  {
   "cell_type": "code",
   "execution_count": 36,
   "id": "8991f38c",
   "metadata": {},
   "outputs": [
    {
     "data": {
      "text/plain": [
       "array([-0.66666667+1.1055416j, -0.66666667-1.1055416j])"
      ]
     },
     "execution_count": 36,
     "metadata": {},
     "output_type": "execute_result"
    }
   ],
   "source": [
    "np.roots(p)"
   ]
  },
  {
   "cell_type": "code",
   "execution_count": 37,
   "id": "c1d369a7",
   "metadata": {},
   "outputs": [],
   "source": [
    "check_board =[[1,0,1,0,1,0,1,0],\n",
    "[0,1,0,1,0,1,0,1],\n",
    "[0]*8,[0]*8,[0]*8,[0]*8,\n",
    "[2,0,2,0,2,0,2,0],\n",
    "[0,2,0,2,0,2,0,2]]"
   ]
  },
  {
   "cell_type": "code",
   "execution_count": 38,
   "id": "7831a25d",
   "metadata": {},
   "outputs": [
    {
     "data": {
      "text/plain": [
       "[[1, 0, 1, 0, 1, 0, 1, 0],\n",
       " [0, 1, 0, 1, 0, 1, 0, 1],\n",
       " [0, 0, 0, 0, 0, 0, 0, 0],\n",
       " [0, 0, 0, 0, 0, 0, 0, 0],\n",
       " [0, 0, 0, 0, 0, 0, 0, 0],\n",
       " [0, 0, 0, 0, 0, 0, 0, 0],\n",
       " [2, 0, 2, 0, 2, 0, 2, 0],\n",
       " [0, 2, 0, 2, 0, 2, 0, 2]]"
      ]
     },
     "execution_count": 38,
     "metadata": {},
     "output_type": "execute_result"
    }
   ],
   "source": [
    "check_board"
   ]
  },
  {
   "cell_type": "code",
   "execution_count": 49,
   "id": "88cbb3aa",
   "metadata": {},
   "outputs": [
    {
     "data": {
      "text/plain": [
       "(array([6, 6, 6, 6, 7, 7, 7, 7], dtype=int64),\n",
       " array([0, 2, 4, 6, 1, 3, 5, 7], dtype=int64))"
      ]
     },
     "execution_count": 49,
     "metadata": {},
     "output_type": "execute_result"
    }
   ],
   "source": [
    "np.where(np.array(check_board)==2)"
   ]
  },
  {
   "cell_type": "code",
   "execution_count": null,
   "id": "a50e0bf3",
   "metadata": {},
   "outputs": [],
   "source": []
  }
 ],
 "metadata": {
  "kernelspec": {
   "display_name": "Python 3 (ipykernel)",
   "language": "python",
   "name": "python3"
  },
  "language_info": {
   "codemirror_mode": {
    "name": "ipython",
    "version": 3
   },
   "file_extension": ".py",
   "mimetype": "text/x-python",
   "name": "python",
   "nbconvert_exporter": "python",
   "pygments_lexer": "ipython3",
   "version": "3.9.12"
  }
 },
 "nbformat": 4,
 "nbformat_minor": 5
}
